{
 "cells": [
  {
   "attachments": {},
   "cell_type": "markdown",
   "metadata": {},
   "source": [
    "This is the fourth chapter and in this we look into the following:\n",
    "Tensor?\n",
    "Array?\n",
    "Broadcasting?\n"
   ]
  },
  {
   "attachments": {},
   "cell_type": "markdown",
   "metadata": {},
   "source": [
    "I have been amazed, like, mind blown to see the capabilities and now, I want to look under the hood and see exactly what is going on. I will use computer vision to understand fundamental tools and concepts for deep learning.\n",
    "\n",
    "This is going to be a fun ride. Along the way, I will learn concepts such as arrays, tensors and, broadcasting. I'll also understand stochastic gradient descent (SGD). This is the mechanism for learning by updating weights automatically. We'll discuss the choice of a loss function, and the role of mini-batches. We'll also describe the math that a basic neural network is actually doing.\n"
   ]
  },
  {
   "attachments": {},
   "cell_type": "markdown",
   "metadata": {},
   "source": [
    "Our first model is going to be quite simple one: A classifier that classify any image as a 3 or a 7.\n",
    "For us to be able to classify images, we will first have to train our model. This means feeding it \"labeled\" images of 3s and 7s so that it understands their shapes better.\n",
    "If we were to take any image and see it from the perspective of a computer, we would see that an image is composed of millions on pixels. Each pixel has an RGB value ~ bunch of numbers.\n",
    "\n",
    "Now, that we know that computer sees an image as nothing but just series of numbers, how can we use this for classifying images as 3s or 7s.\n",
    "\n",
    "One way would be to see how close the test image is to an average 3 image or an average 7 image. If the image is closer to the average 3 image, then the test image would be marked as a 3 and if it is closer to average 7 image, then the test image would be marked as a 7.\n",
    "\n",
    "Now, what do quantify the closeness? Well, if we were to take the ABSOLUTE DIFF and SUM UP all such ABSOLUTE DIFFs across all the pixels, then we would know to which image is it closer to.\n",
    "\n",
    "To measure accuracy of the model, we check what proportion of the validation images are accurately classified."
   ]
  },
  {
   "attachments": {},
   "cell_type": "markdown",
   "metadata": {},
   "source": [
    "In the above approach so far, we took the average of training set and used that as a baseline for comparing test data. I wonder that if anytime we get the prediction wrong and we were to re-train the model based on that mistake, would it change the model so much that it would not repeat that mistake for that given image."
   ]
  },
  {
   "attachments": {},
   "cell_type": "markdown",
   "metadata": {},
   "source": [
    "Before we go heavy into the jargon such as Stochatic Gradient Descent, an intuitive way to understand a learning model is:\n",
    "For each classication option, each pixel would have weights associated with it. This means that for training, we will have to get the weights right for all the pixels for all the classification options.\n",
    "## Insert Image\n",
    "\n",
    "\n",
    "This enables model to learn. Now, let's understand the whole process by heart:\n",
    "1. Initialize the weights.\n",
    "2. For each classification, use these weights to predict whether the said image belongs to that given classification or nor.\n",
    "3. Based on these predictions, calculate how good the model is (its loss).\n",
    "4. Calculate the gradient, which measures for each weight, how changing that weight would change the loss\n",
    "5. Step (that is, change) all the weights based on that calculation.\n",
    "6. Go back to the step 2, and repeat the process.\n",
    "7. Iterate until you decide to stop the training process (for instance, because the model is good enough or you don't want to wait any longer).\n",
    "\n"
   ]
  },
  {
   "cell_type": "markdown",
   "metadata": {},
   "source": []
  }
 ],
 "metadata": {
  "kernelspec": {
   "display_name": "Python 3",
   "language": "python",
   "name": "python3"
  },
  "language_info": {
   "codemirror_mode": {
    "name": "ipython",
    "version": 3
   },
   "file_extension": ".py",
   "mimetype": "text/x-python",
   "name": "python",
   "nbconvert_exporter": "python",
   "pygments_lexer": "ipython3",
   "version": "3.11.0 (v3.11.0:deaf509e8f, Oct 24 2022, 14:43:23) [Clang 13.0.0 (clang-1300.0.29.30)]"
  },
  "orig_nbformat": 4,
  "vscode": {
   "interpreter": {
    "hash": "aee8b7b246df8f9039afb4144a1f6fd8d2ca17a180786b69acc140d282b71a49"
   }
  }
 },
 "nbformat": 4,
 "nbformat_minor": 2
}
