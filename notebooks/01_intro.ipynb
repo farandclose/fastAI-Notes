{
 "cells": [
  {
   "attachments": {},
   "cell_type": "markdown",
   "metadata": {},
   "source": [
    "## Purpose\n",
    "This is introduction to machine learning and in this, we are going to look at how various things work\n",
    "\n",
    "### Gist of this notebook\n",
    "It contains three models:\n",
    "1. Cat Identifier\n",
    "2. Image Segmentation that identifies different segments within a given image\n",
    "3. Feedback classifier\n",
    "4. There is one more that I am not sure about"
   ]
  },
  {
   "attachments": {},
   "cell_type": "markdown",
   "metadata": {},
   "source": [
    "### Cat Identifier\n",
    "Before we go into the code, let's think about how it would work. Broadly these are the three sets that we will follow:\n",
    "1. We will take a pre-trained model\n",
    "2. This pre-trained model is trained on a specific dataset of images\n",
    "3. We will test this newly trained model\n",
    "\n",
    "Let's go through them one by one:\n",
    "Getting a pre-trained model. There are many pre-trained image recognition models that are available. The one that you want to choose is the one that has least footprint with desired accuracy.\n",
    "\n",
    "Let's say that you have found the model that you want to train. The question comes, how do you train it:\n",
    "1. Get the sample data that you want to train\n",
    "2. Divide the data into training set and validation set\n",
    "3. Training the model on the training set for a given number of iterations. These iterations are called epochs.\n",
    "4. After each Epoch, the system would check the accuracy of the trained model on the validation set.\n",
    "5. One way to define the number of iterations for training is to keep a close eye on the accuracy. We want to keep as many epochs that lead to improvement in accuracy."
   ]
  },
  {
   "cell_type": "code",
   "execution_count": null,
   "metadata": {},
   "outputs": [],
   "source": [
    "# \"Uqq\" quitely install the latest version of the fastbook\n",
    "! [ -e /content ] && pip install -Uqq fastbook\n",
    "# Once it is installed, import it. With import, all its modules become accessible.\n",
    "import fastbook\n",
    "# If fastbook is imported, it would set up the whole environment for fastbook to operate properly.\n",
    "fastbook.setup_book()"
   ]
  },
  {
   "cell_type": "code",
   "execution_count": null,
   "metadata": {},
   "outputs": [],
   "source": [
    "# Though above, we already imported the fastbook, with the following command, we are importing all its modules as well.\n",
    "# By doing so, all its modules would become accessible\n",
    "from fastbook import *"
   ]
  },
  {
   "cell_type": "code",
   "execution_count": null,
   "metadata": {},
   "outputs": [],
   "source": [
    "# With the following statement, we import all the modules within fastai.vision.all\n",
    "from fastai.vision.all import *\n",
    "\n",
    "# untar_data function downloads the the file or folder from the specified location and returns the path of the location\n",
    "# where the given file or folder was downloaded.\n",
    "# by doing /'images' with this given location, we concatanate these two strings and essentially form a string path to the images folder within\n",
    "# the downloaded location\n",
    "path = untar_data(URLs.PETS)/'images'\n",
    "\n",
    "# The following line describes a function is_cat. This function accepts one variable. Within the function, we access the 0th index of the passed input\n",
    "# and check if it is given in UPPERCASE or not. If it is given in uppercase, then the function returns true else it returns false.\n",
    "def is_cat(x): return x[0].isupper()\n",
    "\n",
    "# ImageDataLoaders.from_name_func function is a utility function that creates a DataLoaders object from a directory of files\n",
    "# , using a function to map the file names to labels.\n",
    "# This DataLoaders object is an iterator that yields batches of data for training or evaluation.\n",
    "\n",
    "# The from_name_func function accepts six parameters:\n",
    "\n",
    "# path: the location where the files are located.\n",
    "# get_image_files(path): a function that returns a list of the image files in the directory specified by path.\n",
    "# valid_pct: the proportion of the files that should be reserved for validation. In this case, 20% of the files will be used for validation.\n",
    "# seed: a random seed used to shuffle the files before dividing them into training and validation sets.\n",
    "# label_func: a function that takes a file name and returns a label for the file. In this case, the is_cat function is used to label the\n",
    "# files as \"cat\" or \"non-cat\" based on the first letter of the file name.\n",
    "# item_tfms: a transformation to apply to each image before it is fed to the model. In this case, the images are resized to a fixed size of 224 pixels.\n",
    "# The dls variable is assigned the DataLoaders object returned by ImageDataLoaders.from_name_func. This object can be used to iterate over\n",
    "# the training and validation data in batches.\n",
    "\n",
    "\n",
    "dls = ImageDataLoaders.from_name_func(\n",
    "    path, get_image_files(path), valid_pct=0.2, seed=42,\n",
    "    label_func=is_cat, item_tfms=Resize(224))\n",
    "\n",
    "# The learn variable is assigned the value returned by the vision_learner function, which is likely a function defined in the fastai.vision module.\n",
    "# The vision_learner function takes three parameters:\n",
    "# ==> dls: a DataLoaders object, which is an iterator that yields batches of data for training or evaluation.\n",
    "# In this case, dls is the DataLoaders object created by the ImageDataLoaders.from_name_func function.\n",
    "# ==> resnet34: the model to use for training. This is likely a pre-trained convolutional neural network (CNN) defined in the fastai.vision module.\n",
    "# ==> metrics: the metric to use to evaluate the model's performance. In this case, the error_rate metric is used, which\n",
    "# measures the proportion of misclassified samples in the data.\n",
    "# The learn variable is assigned a Learner object, which is a high-level interface for training and evaluating models in the fastai ecosystem.\n",
    "# The Learner object can be used to fine-tune the model on the training data, evaluate its performance on the validation data,\n",
    "# and make predictions on new data.\n",
    "learn = vision_learner(dls, resnet34, metrics=error_rate)\n",
    "\n",
    "\n",
    "# The fine_tune method is a method of the Learner object that is used to fine-tune a pre-trained model on a new dataset.\n",
    "# The method takes an integer argument that specifies the number of epochs to train the model for.\n",
    "\n",
    "# An epoch is a measure of the number of times the model has seen the entire training dataset.\n",
    "# During training, the model is presented with a batch of data, makes predictions, and updates its internal parameters based on the error\n",
    "# between the predictions and the true labels.\n",
    "# This process is repeated until the model has seen all the training data, at which point one epoch is complete.\n",
    "# The model is then evaluated on the validation data, and the process is repeated for the specified number of epochs.\n",
    "# The fine_tune method updates the model's internal parameters to minimize the loss function on the training data.\n",
    "# The loss function measures the difference between the model's predictions and the true labels, and the goal of training\n",
    "# is to minimize this difference.\n",
    "learn.fine_tune(1)"
   ]
  },
  {
   "cell_type": "code",
   "execution_count": null,
   "metadata": {},
   "outputs": [],
   "source": [
    "img = PILImage.create(image_cat())\n",
    "img.to_thumb(192)"
   ]
  },
  {
   "cell_type": "code",
   "execution_count": null,
   "metadata": {},
   "outputs": [],
   "source": [
    "uploader = widgets.FileUpload()\n",
    "uploader"
   ]
  },
  {
   "cell_type": "code",
   "execution_count": null,
   "metadata": {},
   "outputs": [],
   "source": [
    "#hide\n",
    "# For the book, we can't actually click an upload button, so we fake it\n",
    "uploader = SimpleNamespace(data = ['images/chapter1_cat_example.jpg'])"
   ]
  },
  {
   "cell_type": "code",
   "execution_count": null,
   "metadata": {},
   "outputs": [],
   "source": [
    "img = PILImage.create(uploader.data[0])\n",
    "is_cat,_,probs = learn.predict(img)\n",
    "print(f\"Is this a cat?: {is_cat}.\")\n",
    "print(f\"Probability it's a cat: {probs[1].item():.6f}\")"
   ]
  },
  {
   "cell_type": "code",
   "execution_count": null,
   "metadata": {},
   "outputs": [],
   "source": [
    "path = untar_data(URLs.CAMVID_TINY)\n",
    "dls = SegmentationDataLoaders.from_label_func(\n",
    "    path, bs=8, fnames = get_image_files(path/\"images\"),\n",
    "    label_func = lambda o: path/'labels'/f'{o.stem}_P{o.suffix}',\n",
    "    codes = np.loadtxt(path/'codes.txt', dtype=str)\n",
    ")\n",
    "\n",
    "learn = unet_learner(dls, resnet34)\n",
    "learn.fine_tune(8)"
   ]
  },
  {
   "cell_type": "code",
   "execution_count": null,
   "metadata": {},
   "outputs": [],
   "source": [
    "learn.show_results(max_n=6, figsize=(7,8))"
   ]
  },
  {
   "cell_type": "code",
   "execution_count": null,
   "metadata": {},
   "outputs": [],
   "source": [
    "from fastai.text.all import *\n",
    "\n",
    "dls = TextDataLoaders.from_folder(untar_data(URLs.IMDB), valid='test')\n",
    "learn = text_classifier_learner(dls, AWD_LSTM, drop_mult=0.5, metrics=accuracy)\n",
    "learn.fine_tune(4, 1e-2)"
   ]
  },
  {
   "cell_type": "code",
   "execution_count": null,
   "metadata": {},
   "outputs": [],
   "source": [
    "learn.predict(\"I really liked that movie!\")"
   ]
  },
  {
   "cell_type": "code",
   "execution_count": null,
   "metadata": {},
   "outputs": [],
   "source": [
    "from fastai.tabular.all import *\n",
    "path = untar_data(URLs.ADULT_SAMPLE)\n",
    "\n",
    "dls = TabularDataLoaders.from_csv(path/'adult.csv', path=path, y_names=\"salary\",\n",
    "    cat_names = ['workclass', 'education', 'marital-status', 'occupation',\n",
    "                 'relationship', 'race'],\n",
    "    cont_names = ['age', 'fnlwgt', 'education-num'],\n",
    "    procs = [Categorify, FillMissing, Normalize])\n",
    "\n",
    "learn = tabular_learner(dls, metrics=accuracy)"
   ]
  },
  {
   "cell_type": "code",
   "execution_count": null,
   "metadata": {},
   "outputs": [],
   "source": [
    "learn.fit_one_cycle(3)"
   ]
  },
  {
   "cell_type": "code",
   "execution_count": null,
   "metadata": {},
   "outputs": [],
   "source": [
    "from fastai.collab import *\n",
    "path = untar_data(URLs.ML_SAMPLE)\n",
    "dls = CollabDataLoaders.from_csv(path/'ratings.csv')\n",
    "learn = collab_learner(dls, y_range=(0.5,5.5))\n",
    "learn.fine_tune(10)"
   ]
  },
  {
   "cell_type": "code",
   "execution_count": null,
   "metadata": {},
   "outputs": [],
   "source": [
    "learn.show_results()"
   ]
  }
 ],
 "metadata": {
  "jupytext": {
   "split_at_heading": true
  },
  "kernelspec": {
   "display_name": "Python 3",
   "language": "python",
   "name": "python3"
  },
  "language_info": {
   "codemirror_mode": {
    "name": "ipython",
    "version": 3
   },
   "file_extension": ".py",
   "mimetype": "text/x-python",
   "name": "python",
   "nbconvert_exporter": "python",
   "pygments_lexer": "ipython3",
   "version": "3.11.0 (v3.11.0:deaf509e8f, Oct 24 2022, 14:43:23) [Clang 13.0.0 (clang-1300.0.29.30)]"
  },
  "vscode": {
   "interpreter": {
    "hash": "aee8b7b246df8f9039afb4144a1f6fd8d2ca17a180786b69acc140d282b71a49"
   }
  }
 },
 "nbformat": 4,
 "nbformat_minor": 4
}
