{
 "cells": [
  {
   "attachments": {},
   "cell_type": "markdown",
   "metadata": {},
   "source": [
    "# This chapter is all about how to move a model from a piece of code to deployment that can be used in production\n",
    "\n",
    "We are going to cover the same example that we saw from the book i.e create a beer classifier\n",
    "It is again divided into three steps:\n",
    "1. Gather data\n",
    "2. Data to DataLoaders\n",
    "3. Train and Deploy the model\n",
    "\n",
    "Gathering Data\n",
    "clean\n",
    "From Data to DataLoaders\n",
    "Data Agumentation\n",
    "Train the model and use it to clean the data\n",
    "What is confusion matrix?\n",
    "Train your model into online application\n",
    "\n"
   ]
  },
  {
   "cell_type": "code",
   "execution_count": null,
   "metadata": {},
   "outputs": [],
   "source": []
  }
 ],
 "metadata": {
  "language_info": {
   "name": "python"
  },
  "orig_nbformat": 4
 },
 "nbformat": 4,
 "nbformat_minor": 2
}
