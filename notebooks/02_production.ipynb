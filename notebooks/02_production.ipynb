{
 "cells": [
  {
   "attachments": {},
   "cell_type": "markdown",
   "metadata": {},
   "source": [
    "# This chapter is all about how to move a model from a piece of code to deployment that can be used in production\n",
    "\n",
    "We are going to cover the same example that we saw from the book i.e create a beer classifier\n",
    "It is again divided into three steps:\n",
    "1. Gather data\n",
    "2. Data to DataLoaders\n",
    "3. Train and Deploy the model\n",
    "\n",
    "Gathering Data\n",
    "clean\n",
    "From Data to DataLoaders\n",
    "Data Agumentation\n",
    "Train the model and use it to clean the data\n",
    "What is confusion matrix?\n",
    "Train your model into online application\n",
    "\n"
   ]
  },
  {
   "cell_type": "code",
   "execution_count": null,
   "metadata": {},
   "outputs": [],
   "source": []
  }
 ],
 "metadata": {
  "kernelspec": {
   "display_name": "Python 3",
   "language": "python",
   "name": "python3"
  },
  "language_info": {
   "name": "python",
   "version": "3.11.0 (v3.11.0:deaf509e8f, Oct 24 2022, 14:43:23) [Clang 13.0.0 (clang-1300.0.29.30)]"
  },
  "orig_nbformat": 4,
  "vscode": {
   "interpreter": {
    "hash": "aee8b7b246df8f9039afb4144a1f6fd8d2ca17a180786b69acc140d282b71a49"
   }
  }
 },
 "nbformat": 4,
 "nbformat_minor": 2
}
